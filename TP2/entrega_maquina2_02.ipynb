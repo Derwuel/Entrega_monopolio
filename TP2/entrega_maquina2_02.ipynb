{
  "nbformat": 4,
  "nbformat_minor": 0,
  "metadata": {
    "colab": {
      "provenance": [],
      "authorship_tag": "ABX9TyNe0qWBjIU9gL/2u4DFNsjm",
      "include_colab_link": true
    },
    "kernelspec": {
      "name": "python3",
      "display_name": "Python 3"
    },
    "language_info": {
      "name": "python"
    }
  },
  "cells": [
    {
      "cell_type": "markdown",
      "metadata": {
        "id": "view-in-github",
        "colab_type": "text"
      },
      "source": [
        "<a href=\"https://colab.research.google.com/github/Derwuel/Entrega_monopolio/blob/main/TP2/entrega_maquina2_02.ipynb\" target=\"_parent\"><img src=\"https://colab.research.google.com/assets/colab-badge.svg\" alt=\"Open In Colab\"/></a>"
      ]
    },
    {
      "cell_type": "markdown",
      "source": [
        "Analisis de base de datos monopolio:\n",
        "\n",
        "En la siguiente ejercicio se tratara de analizar algunos datos de una bases de datos especializada en monopolio, en concreto se tratará de analizar algunas características de los usuarios como: 'Id', 'Subsegmento', 'Sexo', 'Region', 'Edad', 'Renta', 'Antiguedad', 'Internauta', 'Adicional', 'Dualidad', 'Monoproducto', 'Ctacte',  'Consumo', 'Hipotecario', 'Debito', 'CambioPin', 'Cuentas', 'TC', con el fin de poder determinar cual es el tipo de persona que mas consume los productos del juego monopolio."
      ],
      "metadata": {
        "id": "HVwh_685HA2s"
      }
    },
    {
      "cell_type": "markdown",
      "source": [
        "1.- Primera parte: esta parte del código nos permite obtener las librerías adecuadas para poder realizar el análisis de los datos."
      ],
      "metadata": {
        "id": "MUTggEYSHGXL"
      }
    },
    {
      "cell_type": "code",
      "execution_count": null,
      "metadata": {
        "colab": {
          "base_uri": "https://localhost:8080/"
        },
        "collapsed": true,
        "id": "YK6aQYNLBr8B",
        "outputId": "367737db-6ba4-4892-a882-795ad51720ca"
      },
      "outputs": [
        {
          "output_type": "stream",
          "name": "stdout",
          "text": [
            "Requirement already satisfied: wquantiles in /usr/local/lib/python3.10/dist-packages (0.6)\n",
            "Requirement already satisfied: numpy>=1.18 in /usr/local/lib/python3.10/dist-packages (from wquantiles) (1.26.4)\n",
            "Requirement already satisfied: openpyxl in /usr/local/lib/python3.10/dist-packages (3.1.5)\n",
            "Requirement already satisfied: et-xmlfile in /usr/local/lib/python3.10/dist-packages (from openpyxl) (1.1.0)\n",
            "Requirement already satisfied: opendatasets in /usr/local/lib/python3.10/dist-packages (0.1.22)\n",
            "Requirement already satisfied: tqdm in /usr/local/lib/python3.10/dist-packages (from opendatasets) (4.66.5)\n",
            "Requirement already satisfied: kaggle in /usr/local/lib/python3.10/dist-packages (from opendatasets) (1.6.17)\n",
            "Requirement already satisfied: click in /usr/local/lib/python3.10/dist-packages (from opendatasets) (8.1.7)\n",
            "Requirement already satisfied: six>=1.10 in /usr/local/lib/python3.10/dist-packages (from kaggle->opendatasets) (1.16.0)\n",
            "Requirement already satisfied: certifi>=2023.7.22 in /usr/local/lib/python3.10/dist-packages (from kaggle->opendatasets) (2024.8.30)\n",
            "Requirement already satisfied: python-dateutil in /usr/local/lib/python3.10/dist-packages (from kaggle->opendatasets) (2.8.2)\n",
            "Requirement already satisfied: requests in /usr/local/lib/python3.10/dist-packages (from kaggle->opendatasets) (2.32.3)\n",
            "Requirement already satisfied: python-slugify in /usr/local/lib/python3.10/dist-packages (from kaggle->opendatasets) (8.0.4)\n",
            "Requirement already satisfied: urllib3 in /usr/local/lib/python3.10/dist-packages (from kaggle->opendatasets) (2.0.7)\n",
            "Requirement already satisfied: bleach in /usr/local/lib/python3.10/dist-packages (from kaggle->opendatasets) (6.1.0)\n",
            "Requirement already satisfied: webencodings in /usr/local/lib/python3.10/dist-packages (from bleach->kaggle->opendatasets) (0.5.1)\n",
            "Requirement already satisfied: text-unidecode>=1.3 in /usr/local/lib/python3.10/dist-packages (from python-slugify->kaggle->opendatasets) (1.3)\n",
            "Requirement already satisfied: charset-normalizer<4,>=2 in /usr/local/lib/python3.10/dist-packages (from requests->kaggle->opendatasets) (3.3.2)\n",
            "Requirement already satisfied: idna<4,>=2.5 in /usr/local/lib/python3.10/dist-packages (from requests->kaggle->opendatasets) (3.8)\n"
          ]
        }
      ],
      "source": [
        "# Importar las librerías necesarias para el análisis y visualización de datos\n",
        "%matplotlib inline\n",
        "!pip install wquantiles\n",
        "!pip install openpyxl\n",
        "!pip install opendatasets\n",
        "\n",
        "\n",
        "import pandas as pd\n",
        "import numpy as np\n",
        "import seaborn as sb\n",
        "import matplotlib.pyplot as plt\n",
        "import opendatasets as od\n",
        "import wquantiles\n",
        "import os\n",
        "\n",
        "\n",
        "from pathlib import Path\n",
        "from scipy.stats import trim_mean\n",
        "from statsmodels import robust\n",
        "from sklearn.model_selection import train_test_split, cross_val_score\n",
        "from sklearn.linear_model import LinearRegression\n",
        "from sklearn.metrics import mean_squared_error, r2_score\n",
        "from sklearn.tree import DecisionTreeClassifier\n",
        "from sklearn.metrics import accuracy_score\n",
        "from mpl_toolkits.mplot3d import Axes3D\n",
        "from matplotlib import cm\n",
        "from sklearn.impute import KNNImputer\n",
        "from sklearn.preprocessing import StandardScaler\n",
        "from sklearn.preprocessing import LabelEncoder"
      ]
    },
    {
      "cell_type": "markdown",
      "source": [
        "2.- Con esta parte del código se puede obtener la base de datos, a través de una API, esta base de datos está almacenada en la página kaggel y a través de un nombre de usuario y de una contraseña se puede acceder a los datos desde cualquier lugar.\n",
        "\n",
        "Estos son los datos nesesarios para consumir la API y poder acceder a la base de datos\n",
        "\n",
        "1.   \"username\":\"derwuel\"\n",
        "2.   \"key\":\"86b1d6a83dda1f96e18580fbd03a5544\"\n"
      ],
      "metadata": {
        "id": "MS40wFqSHKxS"
      }
    },
    {
      "cell_type": "code",
      "source": [
        "# Descargar los datos desde Kaggle\n",
        "dataset_link=\"https://www.kaggle.com/datasets/derwuel/trabajo-mono\"\n",
        "od.download(dataset_link)\n",
        "\n",
        "# Cargar el archivo de Excel\n",
        "os.chdir(\"trabajo-mono\")\n",
        "df = pd.read_excel(\"Base_clientes_Monopoly-0_prueba.xlsx\")\n"
      ],
      "metadata": {
        "colab": {
          "base_uri": "https://localhost:8080/"
        },
        "id": "C4-CZDIwCadS",
        "outputId": "de60c137-b8a1-4918-bd3f-1a7dfbcb1ad6"
      },
      "execution_count": null,
      "outputs": [
        {
          "output_type": "stream",
          "name": "stdout",
          "text": [
            "Please provide your Kaggle credentials to download this dataset. Learn more: http://bit.ly/kaggle-creds\n",
            "Your Kaggle username: derwuel\n",
            "Your Kaggle Key: ··········\n",
            "Dataset URL: https://www.kaggle.com/datasets/derwuel/trabajo-mono\n",
            "Downloading trabajo-mono.zip to ./trabajo-mono\n"
          ]
        },
        {
          "output_type": "stream",
          "name": "stderr",
          "text": [
            "100%|██████████| 116M/116M [00:01<00:00, 75.7MB/s] \n"
          ]
        },
        {
          "output_type": "stream",
          "name": "stdout",
          "text": [
            "\n"
          ]
        }
      ]
    },
    {
      "cell_type": "markdown",
      "source": [
        "3.- en esta parte del código comienza la limpieza de los datos, esto se hace con el fin de poder trabajar de manera más cómoda con ellos, en este caso procederemos a cambiar los datos del index, por los nombres de las columnas con el fin de identificarlos mejor y luego eliminaremos la primera fila de las columnas, ya que el index a tomado el valor de la primera fila, esta ya no es necesaria , luego tomaremos los datos de la columna ‘sexo’ y los remplasaremos para que sea mas facil de trabajar al momento de realizar el analicis."
      ],
      "metadata": {
        "id": "33jSih1RHXXa"
      }
    },
    {
      "cell_type": "code",
      "source": [
        "# Mostrar las primeras filas del DataFrame para entender los datos\n",
        "print(\"Primeras filas del DataFrame:\")\n",
        "print(df.head())\n",
        "\n",
        "# Revisar el tipo de datos de cada columna y cuántos valores nulos contiene\n",
        "print(\"Tipos de datos y valores nulos:\")\n",
        "print(df.info())\n",
        "\n",
        "#estos son los códigos que utilizaremos para hacer el primer sondeo de los datos\n",
        "primeras_columnas = df.columns[:60]\n",
        "valores_segunda_fila = df.iloc[0, :60]\n",
        "print(f\"Nombres de las columnas: {primeras_columnas}\")\n",
        "print(f\"Valores de la segunda fila: {valores_segunda_fila}\")\n",
        "\n",
        "\n",
        "# Cambiar los nombres de las columnas por los valores de la fila 0\n",
        "df.columns = df.iloc[0]\n",
        "\n",
        "\n",
        "# Eliminar la fila 0 ya que ahora es innecesaria (contiene los nuevos nombres de columnas)\n",
        "df = df.drop(df.index[0])\n",
        "\n",
        "\n",
        "#este parte del codigo existe para poder trasformar los datos de tipo str a datos numericos\n",
        "df['Sexo'] = df['Sexo'].replace({'H': 1, 'M': 2})\n",
        "\n",
        "# Definir las columnas a verificar\n",
        "columnas_a_verificar = ['Id', 'Subsegmento', 'Sexo', 'Region', 'Edad', 'Renta', 'Antiguedad', 'Internauta',\n",
        "                        'Adicional', 'Dualidad', 'Monoproducto', 'Ctacte', 'Consumo', 'Hipotecario', 'Debito',\n",
        "                        'CambioPin', 'Cuentas', 'TC']\n",
        "\n",
        "# Mostrar estadísticas descriptivas básicas para entender los datos\n",
        "print(\"Estadísticas descriptivas:\")\n",
        "print(df[columnas_a_verificar].describe())\n",
        "\n",
        "# Identificación de valores nulos\n",
        "print(\"Valores nulos por columna:\")\n",
        "print(df[columnas_a_verificar].isnull().sum())\n"
      ],
      "metadata": {
        "colab": {
          "base_uri": "https://localhost:8080/"
        },
        "collapsed": true,
        "id": "joZn2bbyEwqh",
        "outputId": "5ba4fb74-1fdd-4fb5-e68f-2feb49c716d4"
      },
      "execution_count": null,
      "outputs": [
        {
          "output_type": "stream",
          "name": "stdout",
          "text": [
            "Primeras filas del DataFrame:\n",
            "    1          1.1   1.2     1.3   1.4     1.5         1.6         1.7  \\\n",
            "0  Id  Subsegmento  Sexo  Region  Edad   Renta  Antiguedad  Internauta   \n",
            "1   1          160     M      13    43     NaN         130           1   \n",
            "2   2          160     H      13    46  143640          69           1   \n",
            "3   3          170     H      13    45  929106          24           1   \n",
            "4   4          151     H      13    46  172447         134           0   \n",
            "\n",
            "         1.8       1.9  ...        1.565        1.566        1.567  \\\n",
            "0  Adicional  Dualidad  ...  PagoNac_T01  PagoInt_T01  EeccNac_T01   \n",
            "1          1         0  ...        33000            0      1099866   \n",
            "2          0         0  ...       300000            0       214592   \n",
            "3          1         0  ...       216676            0            0   \n",
            "4          1         0  ...        60000            0       272762   \n",
            "\n",
            "         1.568      1.569      1.570      1.571       1.572   1.573 574  \n",
            "0  EeccInt_T01  UsoL1_T01  UsoL2_T01  UsoLI_T01  IndRev_T01  target NaN  \n",
            "1            0    1099866      15080          0           R       0 NaN  \n",
            "2            0     214592      83596          0           R       0 NaN  \n",
            "3            0       7400          0          0           T       0 NaN  \n",
            "4            0     272762      10591          0           R       0 NaN  \n",
            "\n",
            "[5 rows x 575 columns]\n",
            "Tipos de datos y valores nulos:\n",
            "<class 'pandas.core.frame.DataFrame'>\n",
            "RangeIndex: 51125 entries, 0 to 51124\n",
            "Columns: 575 entries, 1 to 574\n",
            "dtypes: float64(1), object(574)\n",
            "memory usage: 224.3+ MB\n",
            "None\n",
            "Nombres de las columnas: Index([     1,  '1.1',  '1.2',  '1.3',  '1.4',  '1.5',  '1.6',  '1.7',  '1.8',\n",
            "        '1.9', '1.10', '1.11', '1.12', '1.13', '1.14', '1.15', '1.16', '1.17',\n",
            "       '1.18', '1.19', '1.20', '1.21', '1.22', '1.23', '1.24', '1.25', '1.26',\n",
            "       '1.27', '1.28', '1.29', '1.30', '1.31', '1.32', '1.33', '1.34', '1.35',\n",
            "       '1.36', '1.37', '1.38', '1.39', '1.40', '1.41', '1.42', '1.43', '1.44',\n",
            "       '1.45', '1.46', '1.47', '1.48', '1.49', '1.50', '1.51', '1.52', '1.53',\n",
            "       '1.54', '1.55', '1.56', '1.57', '1.58', '1.59'],\n",
            "      dtype='object')\n",
            "Valores de la segunda fila: 1                   Id\n",
            "1.1        Subsegmento\n",
            "1.2               Sexo\n",
            "1.3             Region\n",
            "1.4               Edad\n",
            "1.5              Renta\n",
            "1.6         Antiguedad\n",
            "1.7         Internauta\n",
            "1.8          Adicional\n",
            "1.9           Dualidad\n",
            "1.10      Monoproducto\n",
            "1.11            Ctacte\n",
            "1.12           Consumo\n",
            "1.13       Hipotecario\n",
            "1.14            Debito\n",
            "1.15         CambioPin\n",
            "1.16           Cuentas\n",
            "1.17                TC\n",
            "1.18           CUPO_L1\n",
            "1.19           CUPO_L2\n",
            "1.20           CUPO_MX\n",
            "1.21        FlgAct_T12\n",
            "1.22      FlgActCN_T12\n",
            "1.23      FlgActCI_T12\n",
            "1.24      FlgActAN_T12\n",
            "1.25      FlgActAI_T12\n",
            "1.26     FlgActPAT_T12\n",
            "1.27    FlgActCCPC_T12\n",
            "1.28    FlgActCCOT_T12\n",
            "1.29     FlgActCOL_T12\n",
            "1.30           Fac_T12\n",
            "1.31           Txs_T12\n",
            "1.32         FacCN_T12\n",
            "1.33         TxsCN_T12\n",
            "1.34         FacCI_T12\n",
            "1.35         TxsCI_T12\n",
            "1.36         FacAN_T12\n",
            "1.37         TxsAN_T12\n",
            "1.38         FacAI_T12\n",
            "1.39         TxsAI_T12\n",
            "1.40        FacPAT_T12\n",
            "1.41        TxsPAT_T12\n",
            "1.42       FacCCPC_T12\n",
            "1.43       TxsCCPC_T12\n",
            "1.44       FacCCOT_T12\n",
            "1.45       TxsCCOT_T12\n",
            "1.46        FacCOL_T12\n",
            "1.47        TxsCOL_T12\n",
            "1.48     FacDebCom_T12\n",
            "1.49     TxsDebCom_T12\n",
            "1.50     FacDebAtm_T12\n",
            "1.51     TxsDebAtm_T12\n",
            "1.52           Col_T12\n",
            "1.53       ColL1T0_T12\n",
            "1.54       ColL1TE_T12\n",
            "1.55       ColL2T0_T12\n",
            "1.56       ColL2AC_T12\n",
            "1.57       ColL2CC_T12\n",
            "1.58         ColMx_T12\n",
            "1.59       PagoNac_T12\n",
            "Name: 0, dtype: object\n",
            "Estadísticas descriptivas:\n",
            "0              Sexo\n",
            "count  51123.000000\n",
            "mean       1.463842\n",
            "std        0.498696\n",
            "min        1.000000\n",
            "25%        1.000000\n",
            "50%        1.000000\n",
            "75%        2.000000\n",
            "max        2.000000\n",
            "Valores nulos por columna:\n",
            "0\n",
            "Id                  0\n",
            "Subsegmento         0\n",
            "Sexo                1\n",
            "Region             53\n",
            "Edad                0\n",
            "Renta           13365\n",
            "Antiguedad          0\n",
            "Internauta          0\n",
            "Adicional           0\n",
            "Dualidad            0\n",
            "Monoproducto        0\n",
            "Ctacte              0\n",
            "Consumo             0\n",
            "Hipotecario         0\n",
            "Debito              0\n",
            "CambioPin       19388\n",
            "Cuentas             0\n",
            "TC                  0\n",
            "dtype: int64\n"
          ]
        }
      ]
    },
    {
      "cell_type": "markdown",
      "source": [
        "4.- una vez lista con la limpieza inicial trataremos de rellenar los datos faltantes, estos datos pueden producirse cuando la base de datos se corrompe o simplemente nunca existieron, primero tomaremos todos los datos que queremos imputar, y los transformaremos a un formato que permita su procesado, luego usaremos el método KNN(vecinos cercanos) para poder rellenar los datos faltantes y finalmente, devolveremos los datos a un formato fácil de entender para todos los procesos."
      ],
      "metadata": {
        "id": "99H4X7oyHe0i"
      }
    },
    {
      "cell_type": "code",
      "source": [
        "# Convertir las columnas seleccionadas a formato float32 para la imputación\n",
        "df[columnas_a_verificar] = df[columnas_a_verificar].astype('float32')\n",
        "\n",
        "# Imputación de valores faltantes usando KNN\n",
        "imputer = KNNImputer(n_neighbors=5)\n",
        "df_imputed = pd.DataFrame(imputer.fit_transform(df[columnas_a_verificar]), columns=columnas_a_verificar)\n",
        "\n",
        "# Convertir los datos de nuevo a sus tipos originales\n",
        "df_imputed[columnas_a_verificar] = df_imputed[columnas_a_verificar].astype('int64')\n",
        "\n",
        "# Estandarización de los datos numéricos\n",
        "scaler = StandardScaler()\n",
        "df_imputed[columnas_a_verificar] = scaler.fit_transform(df_imputed[columnas_a_verificar])\n",
        "\n",
        "print(\"Datos después de la imputación y estandarización:\")\n",
        "print(df_imputed.head())\n"
      ],
      "metadata": {
        "colab": {
          "base_uri": "https://localhost:8080/"
        },
        "collapsed": true,
        "id": "IfyX1YUSFLpo",
        "outputId": "938e0ad1-d554-497a-cb99-f829b1e591d8"
      },
      "execution_count": null,
      "outputs": [
        {
          "output_type": "stream",
          "name": "stdout",
          "text": [
            "Datos después de la imputación y estandarización:\n",
            "         Id  Subsegmento      Sexo    Region      Edad     Renta  Antiguedad  \\\n",
            "0 -1.732017    -0.752290  1.075150  0.640485  0.323032  1.278702    2.553917   \n",
            "1 -1.731949    -0.752290 -0.930102  0.640485  0.548555 -1.373639    0.843902   \n",
            "2 -1.731881    -0.410717 -0.930102  0.640485  0.473381  0.519543   -0.417584   \n",
            "3 -1.731814    -1.059706 -0.930102  0.640485  0.548555 -1.304206    2.666049   \n",
            "4 -1.731746    -0.410717 -0.930102  0.640485  0.548555  0.221017    2.161455   \n",
            "\n",
            "   Internauta  Adicional  Dualidad  Monoproducto    Ctacte  Consumo  \\\n",
            "0    0.679384   1.703963 -0.785122     -0.259607  0.284213 -0.03001   \n",
            "1    0.679384  -0.586867 -0.785122     -0.259607  0.284213 -0.03001   \n",
            "2    0.679384   1.703963 -0.785122     -0.259607  0.284213 -0.03001   \n",
            "3   -1.471922   1.703963 -0.785122      3.851970 -3.518486 -0.03001   \n",
            "4   -1.471922   1.703963  1.273688     -0.259607  0.284213 -0.03001   \n",
            "\n",
            "   Hipotecario    Debito  CambioPin   Cuentas        TC  \n",
            "0    -0.399355  0.377474        0.0 -0.739902  1.444648  \n",
            "1     2.504035 -2.649187        0.0 -0.739902 -0.834653  \n",
            "2     2.504035  0.377474        0.0 -0.739902  0.304998  \n",
            "3    -0.399355 -2.649187        0.0 -0.739902  0.304998  \n",
            "4     2.504035 -2.649187        0.0  1.077119  1.444648  \n"
          ]
        }
      ]
    },
    {
      "cell_type": "markdown",
      "source": [
        "5.- aqui se esta realisando un modelo de regresión lineal para predecir el consumo de los los usuarios y de esa forma determinar, quienes son mas adecuados a la hora de enfocar la publisidad de la marca."
      ],
      "metadata": {
        "id": "NeSNhtC3IDOB"
      }
    },
    {
      "cell_type": "code",
      "source": [
        "# Definir la variable objetivo para la regresión (target) como 'Consumo'\n",
        "X = df_imputed.drop(columns=['Consumo'])\n",
        "y = df_imputed['Consumo']\n",
        "\n",
        "# Dividir los datos en conjuntos de entrenamiento y prueba\n",
        "X_train, X_test, y_train, y_test = train_test_split(X, y, test_size=0.3, random_state=42)\n",
        "\n",
        "# Crear y entrenar un modelo de regresión lineal\n",
        "reg_model = LinearRegression()\n",
        "reg_model.fit(X_train, y_train)\n",
        "\n",
        "# Hacer predicciones sobre el conjunto de prueba\n",
        "y_pred = reg_model.predict(X_test)\n",
        "\n",
        "# Evaluar el modelo\n",
        "print(\"Evaluación del modelo de regresión:\")\n",
        "print(\"MSE:\", mean_squared_error(y_test, y_pred))\n",
        "print(\"R²:\", r2_score(y_test, y_pred))\n"
      ],
      "metadata": {
        "colab": {
          "base_uri": "https://localhost:8080/"
        },
        "collapsed": true,
        "id": "jKGiEAqxG92_",
        "outputId": "af61cc77-daaf-4e53-fcb1-0247d5ccf268"
      },
      "execution_count": null,
      "outputs": [
        {
          "output_type": "stream",
          "name": "stdout",
          "text": [
            "Evaluación del modelo de regresión:\n",
            "MSE: 0.8694212633796877\n",
            "R²: 0.00023087610770589073\n"
          ]
        }
      ]
    },
    {
      "cell_type": "markdown",
      "source": [
        "Se usa un modelo de árbol de decisión para predecir el sexo, evaluando con la métrica de accuracy y de esa forma determinar, quienes son mas adecuados a la hora de enfocar la publisidad de la marca."
      ],
      "metadata": {
        "id": "WkUstwyYJ6M5"
      }
    },
    {
      "cell_type": "code",
      "source": [
        "# Definir la variable objetivo para clasificación como 'Sexo'\n",
        "le = LabelEncoder()\n",
        "df_imputed['Sexo'] = le.fit_transform(df_imputed['Sexo'])\n",
        "X_class = df_imputed.drop(columns=['Sexo'])\n",
        "y_class = df_imputed['Sexo']\n",
        "\n",
        "# Dividir los datos en conjuntos de entrenamiento y prueba para clasificación\n",
        "X_train_class, X_test_class, y_train_class, y_test_class = train_test_split(X_class, y_class, test_size=0.3, random_state=42)\n",
        "\n",
        "# Crear y entrenar un modelo de árbol de decisión\n",
        "clf_model = DecisionTreeClassifier(random_state=42)\n",
        "clf_model.fit(X_train_class, y_train_class)\n",
        "\n",
        "# Hacer predicciones sobre el conjunto de prueba\n",
        "y_pred_class = clf_model.predict(X_test_class)\n",
        "\n",
        "# Evaluar el modelo de clasificación\n",
        "print(\"Evaluación del modelo de clasificación:\")\n",
        "print(\"Accuracy:\", accuracy_score(y_test_class, y_pred_class))\n",
        "\n",
        "# Realizar validación cruzada para asegurar la robustez del modelo\n",
        "cross_val_scores = cross_val_score(clf_model, X_class, y_class, cv=5)\n",
        "print(\"Validación cruzada (Accuracy):\", np.mean(cross_val_scores))\n"
      ],
      "metadata": {
        "colab": {
          "base_uri": "https://localhost:8080/"
        },
        "collapsed": true,
        "id": "Z9nYrocwHNjG",
        "outputId": "483eb48d-e111-4fd4-88b1-76899f84f6a6"
      },
      "execution_count": null,
      "outputs": [
        {
          "output_type": "stream",
          "name": "stdout",
          "text": [
            "Evaluación del modelo de clasificación:\n",
            "Accuracy: 0.5199504498630851\n",
            "Validación cruzada (Accuracy): 0.49202026584937497\n"
          ]
        }
      ]
    },
    {
      "cell_type": "markdown",
      "source": [
        "5.-  esta parte del código son los datos expresados en formato de gráficos con el fin de poder analizar la informacion de manera mas clara y concisa."
      ],
      "metadata": {
        "id": "3aCjs3BcH-R5"
      }
    },
    {
      "cell_type": "code",
      "source": [
        "# Crear gráficos de dispersión para analizar la relación entre Consumo y otras variables\n",
        "fig, axes = plt.subplots(2, 3, figsize=(18, 12))\n",
        "\n",
        "sb.scatterplot(x='Renta', y='Consumo', data=df_imputed, ax=axes[0, 0])\n",
        "sb.scatterplot(x='Edad', y='Consumo', data=df_imputed, ax=axes[0, 1])\n",
        "sb.scatterplot(x='Antiguedad', y='Consumo', data=df_imputed, ax=axes[0, 2])\n",
        "sb.scatterplot(x='TC', y='Consumo', data=df_imputed, ax=axes[1, 0])\n",
        "sb.scatterplot(x='Debito', y='Consumo', data=df_imputed, ax=axes[1, 1])\n",
        "\n",
        "axes[0, 0].set_title('Consumo vs Renta')\n",
        "axes[0, 1].set_title('Consumo vs Edad')\n",
        "axes[0, 2].set_title('Consumo vs Antigüedad')\n",
        "axes[1, 0].set_title('Consumo vs Tarjeta de Crédito')\n",
        "axes[1, 1].set_title('Consumo vs Débito')\n",
        "\n",
        "plt.tight_layout()\n",
        "plt.show()\n"
      ],
      "metadata": {
        "colab": {
          "base_uri": "https://localhost:8080/",
          "height": 1000
        },
        "collapsed": true,
        "id": "0ZQhJhyqJPG2",
        "outputId": "659e60a5-b780-4867-8d08-d4fd5c691beb"
      },
      "execution_count": null,
      "outputs": [
        {
          "output_type": "display_data",
          "data": {
            "text/plain": [
              "<Figure size 1800x1200 with 6 Axes>"
            ],
            "image/png": "[encoded data removed]"
          },
          "metadata": {}
        }
      ]
    }
  ]
}